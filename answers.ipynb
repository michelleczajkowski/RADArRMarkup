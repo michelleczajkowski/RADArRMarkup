{
 "cells": [
  {
   "attachments": {},
   "cell_type": "markdown",
   "metadata": {},
   "source": [
    "I'm going to try to retrieve an answer for one item"
   ]
  },
  {
   "cell_type": "code",
   "execution_count": 4,
   "metadata": {},
   "outputs": [],
   "source": [
    "import pyautogui\n",
    "import time\n",
    "from selenium import webdriver\n",
    "from selenium.webdriver.common.keys import Keys\n"
   ]
  },
  {
   "cell_type": "code",
   "execution_count": 5,
   "metadata": {},
   "outputs": [],
   "source": [
    "x = \"Re-Wri-Sp-Dictation-3\"\n"
   ]
  },
  {
   "cell_type": "code",
   "execution_count": 9,
   "metadata": {},
   "outputs": [
    {
     "name": "stdout",
     "output_type": "stream",
     "text": [
      "Error occurred: 'WebDriver' object has no attribute 'find_element_by_name'\n"
     ]
    }
   ],
   "source": [
    "from selenium import webdriver\n",
    "from selenium.webdriver.common.keys import Keys\n",
    "\n",
    "def search_in_chrome(x):\n",
    "    # Create a Chrome WebDriver instance\n",
    "    driver = webdriver.Chrome()\n",
    "\n",
    "    # Navigate to the current active tab (assuming it's the desired website)\n",
    "    driver.switch_to.window(driver.window_handles[-1])\n",
    "\n",
    "    try:\n",
    "        # Find the search/input element and perform the search\n",
    "        search_input = driver.find_element_by_name(\"q\")  # Assuming it's a Google-like search bar\n",
    "        search_input.send_keys(search_term)\n",
    "        search_input.send_keys(Keys.ENTER)\n",
    "\n",
    "    except Exception as e:\n",
    "        print(\"Error occurred:\", e)\n",
    "\n",
    "    # Close the WebDriver after the search\n",
    "    driver.quit()\n",
    "\n",
    "if __name__ == \"__main__\":\n",
    "    # Replace 'x' with the search term you want to use\n",
    "    search_term = \"x\"\n",
    "    search_in_chrome(search_term)\n"
   ]
  }
 ],
 "metadata": {
  "kernelspec": {
   "display_name": "Python 3",
   "language": "python",
   "name": "python3"
  },
  "language_info": {
   "codemirror_mode": {
    "name": "ipython",
    "version": 3
   },
   "file_extension": ".py",
   "mimetype": "text/x-python",
   "name": "python",
   "nbconvert_exporter": "python",
   "pygments_lexer": "ipython3",
   "version": "3.9.13"
  },
  "orig_nbformat": 4
 },
 "nbformat": 4,
 "nbformat_minor": 2
}
